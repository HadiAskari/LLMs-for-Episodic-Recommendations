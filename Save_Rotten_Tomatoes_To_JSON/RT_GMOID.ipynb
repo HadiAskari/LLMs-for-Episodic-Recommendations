{
 "cells": [
  {
   "cell_type": "code",
   "execution_count": null,
   "metadata": {},
   "outputs": [],
   "source": [
    "import pandas as pd\n",
    "import os\n",
    "import json\n",
    "import time\n",
    "from tqdm.auto import tqdm"
   ]
  },
  {
   "cell_type": "code",
   "execution_count": null,
   "metadata": {},
   "outputs": [],
   "source": [
    "df_RT=pd.read_csv('Rotten_Tomatoes_Synopsis.csv')"
   ]
  },
  {
   "cell_type": "code",
   "execution_count": null,
   "metadata": {},
   "outputs": [],
   "source": [
    "def clean(text):\n",
    "    text=text.strip().split('\\n')[0]\n",
    "    return text"
   ]
  },
  {
   "cell_type": "code",
   "execution_count": null,
   "metadata": {},
   "outputs": [],
   "source": [
    "df_RT['rt_synopsis']=df_RT['rt_synopsis'].apply(clean)"
   ]
  },
  {
   "cell_type": "code",
   "execution_count": null,
   "metadata": {},
   "outputs": [],
   "source": [
    "df_RT.columns"
   ]
  },
  {
   "cell_type": "code",
   "execution_count": null,
   "metadata": {},
   "outputs": [],
   "source": [
    "df_RT['rt_synopsis'].iloc[989]"
   ]
  },
  {
   "cell_type": "code",
   "execution_count": null,
   "metadata": {},
   "outputs": [],
   "source": [
    "all_json = []\n",
    "path_to_jsonfiles=\"GMOID_lookups_RT\"\n",
    "json_names=os.listdir('GMOID_lookups_RT')\n",
    "for name in tqdm(json_names):\n",
    "    full_filename = \"%s/%s\" % (path_to_jsonfiles, name)\n",
    "    with open(full_filename,'r') as fi:\n",
    "        d = json.load(fi)\n",
    "        print(d['RT_Synopsis'])"
   ]
  },
  {
   "cell_type": "code",
   "execution_count": null,
   "metadata": {},
   "outputs": [],
   "source": [
    "all_json = []\n",
    "path_to_jsonfiles=\"GMOID_lookups\"\n",
    "json_names=os.listdir('GMOID_lookups')\n",
    "for name in tqdm(json_names):\n",
    "    full_filename = \"%s/%s\" % (path_to_jsonfiles, name)\n",
    "    with open(full_filename,'r') as fi:\n",
    "        d = json.load(fi)\n",
    "        try:\n",
    "            df_RT[df_RT['series']==d['title']] \n",
    "            df_RT[df_RT['episode']==d['episodicTitle']]\n",
    "            d['mediumSynopsis']=None\n",
    "            d['shortSynopsis']=None\n",
    "            d['longSynopsis']=None\n",
    "            rt=df_RT[(df_RT['series']==d['title']) & (df_RT['episode']==d['episodicTitle'])]['rt_synopsis'].to_list()[0]\n",
    "            newData={'RT_Synopsis': rt}\n",
    "            d.update(newData)\n",
    "\n",
    "            print(d)\n",
    "            with open('GMOID_lookups_RT/%s'%(name), 'w') as file:\n",
    "                json.dump(d,file)\n",
    "\n",
    "        except Exception as e:\n",
    "            print(e)\n",
    "            continue\n",
    "        "
   ]
  },
  {
   "cell_type": "code",
   "execution_count": null,
   "metadata": {},
   "outputs": [],
   "source": [
    "f = open('GMOID_lookups/GMO_00000000001216_01.json')\n",
    "json_file = json.load(f)\n",
    "\n",
    "\n"
   ]
  },
  {
   "cell_type": "code",
   "execution_count": null,
   "metadata": {},
   "outputs": [],
   "source": [
    "json_file.keys()"
   ]
  },
  {
   "cell_type": "code",
   "execution_count": null,
   "metadata": {},
   "outputs": [],
   "source": [
    "json_file['episodicTitle']"
   ]
  },
  {
   "cell_type": "code",
   "execution_count": null,
   "metadata": {},
   "outputs": [],
   "source": []
  }
 ],
 "metadata": {
  "kernelspec": {
   "display_name": "KG",
   "language": "python",
   "name": "python3"
  },
  "language_info": {
   "codemirror_mode": {
    "name": "ipython",
    "version": 3
   },
   "file_extension": ".py",
   "mimetype": "text/x-python",
   "name": "python",
   "nbconvert_exporter": "python",
   "pygments_lexer": "ipython3",
   "version": "3.11.4"
  },
  "orig_nbformat": 4
 },
 "nbformat": 4,
 "nbformat_minor": 2
}
